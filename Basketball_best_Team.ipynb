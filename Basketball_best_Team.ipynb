{
  "nbformat": 4,
  "nbformat_minor": 0,
  "metadata": {
    "colab": {
      "provenance": [],
      "collapsed_sections": [
        "mwO2wvw8PqZR"
      ]
    },
    "kernelspec": {
      "name": "python3",
      "display_name": "Python 3"
    },
    "language_info": {
      "name": "python"
    }
  },
  "cells": [
    {
      "cell_type": "markdown",
      "metadata": {
        "id": "mwO2wvw8PqZR"
      },
      "source": [
        "\n",
        "# Basketball_best_team\n",
        "**DOMAIN: Sports**\n",
        "\n",
        "• **DATA DESCRIPTION:**\n",
        "Basketball_data.csv - The data set contains information on all the teams so far participated in all the past tournaments.\n",
        "\n",
        "**• ATTRIBUTE INFORMATION:**\n",
        "1. Team: Team’s name\n",
        "2. Tournament: Number of played tournaments.\n",
        "3. Score: Team’s score so far.\n",
        "4. Played Games: Games played by the team so far.\n",
        "5. WonGames: Games won by the team so far.\n",
        "6. DrawnGames: Games drawn by the team so far.\n",
        "7. LostGames: Games lost by the team so far.\n",
        "8. BasketScored: Basket scored by the team so far.\n",
        "9. BasketGiven: Basket scored against the team so far.\n",
        "10. Tournament Champion: How many times has the team been a champion of the tournaments so far?\n",
        "11. Runner-up: How many times has the team been a runner-up in the tournaments so far?\n",
        "12. TeamLaunch: The year the team was launched on professional basketball.\n",
        "13. HighestPositionHeld: Highest position held by the team amongst all the tournaments played.\n",
        "\n",
        "**• OBJECTIVE:**\n",
        "\n",
        "The company’s management wants to invest in proposals for managing some of the best teams in the league. Hence, the company wants to understand which teams they can approach which will be a deal win for them.\n",
        "\n",
        "Steps and tasks:\n",
        "1. Read the data set, clean the data, and prepare a final dataset to be used for analysis.\n",
        "2. Perform detailed statistical analysis and EDA using univariate, bivariate, and multivariate EDA techniques to get a data-driven insight on recommending which teams they can approach which will be a deal win for them.\n",
        "3. Use statistical techniques and visualization techniques to come up with the best-performing team, oldest team, team with highest goals, team with lowest performance, etc., and many more.\n"
      ]
    },
    {
      "cell_type": "markdown",
      "metadata": {
        "id": "RmLYLdIASEaF"
      },
      "source": [
        "IMPORT ALL THE REQUIRED PACKAGES AND GET THE INFO ABOUT DATASET"
      ]
    },
    {
      "cell_type": "code",
      "metadata": {
        "id": "LLeLeYBUSDmO",
        "colab": {
          "base_uri": "https://localhost:8080/",
          "height": 657
        },
        "outputId": "d6efb84c-d754-4a9e-a6e8-4b5ed4d7825b"
      },
      "source": [
        "import numpy as np      # IMPORT ALL THE REQUIRED PACKAGES\n",
        "import pandas as pd\n",
        "import matplotlib.pyplot as plt\n",
        "%matplotlib inline\n",
        "import seaborn as sns\n",
        "\n",
        "Basketball = pd.read_csv('./Basketball.csv') # IMPORT THE DATA\n",
        "\n",
        "Basketball.describe(include='all')\n",
        "Basketball.info() # There are no null values in any of the column. There are 2 columns with datatype as int64 (Tournament and HighestPositionHeld), rest all the columns are of object datatype.\n",
        "Basketball.shape # The dataframe has 61 rows and 13 columns with not null values.\n",
        "Basketball.head()\n",
        "Basketball.tail()"
      ],
      "execution_count": null,
      "outputs": [
        {
          "output_type": "stream",
          "text": [
            "<class 'pandas.core.frame.DataFrame'>\n",
            "RangeIndex: 61 entries, 0 to 60\n",
            "Data columns (total 13 columns):\n",
            " #   Column               Non-Null Count  Dtype \n",
            "---  ------               --------------  ----- \n",
            " 0   Team                 61 non-null     object\n",
            " 1   Tournament           61 non-null     int64 \n",
            " 2   Score                61 non-null     object\n",
            " 3   PlayedGames          61 non-null     object\n",
            " 4   WonGames             61 non-null     object\n",
            " 5   DrawnGames           61 non-null     object\n",
            " 6   LostGames            61 non-null     object\n",
            " 7   BasketScored         61 non-null     object\n",
            " 8   BasketGiven          61 non-null     object\n",
            " 9   TournamentChampion   61 non-null     object\n",
            " 10  Runner-up            61 non-null     object\n",
            " 11  TeamLaunch           61 non-null     object\n",
            " 12  HighestPositionHeld  61 non-null     int64 \n",
            "dtypes: int64(2), object(11)\n",
            "memory usage: 6.3+ KB\n"
          ],
          "name": "stdout"
        },
        {
          "output_type": "execute_result",
          "data": {
            "text/html": [
              "<div>\n",
              "<style scoped>\n",
              "    .dataframe tbody tr th:only-of-type {\n",
              "        vertical-align: middle;\n",
              "    }\n",
              "\n",
              "    .dataframe tbody tr th {\n",
              "        vertical-align: top;\n",
              "    }\n",
              "\n",
              "    .dataframe thead th {\n",
              "        text-align: right;\n",
              "    }\n",
              "</style>\n",
              "<table border=\"1\" class=\"dataframe\">\n",
              "  <thead>\n",
              "    <tr style=\"text-align: right;\">\n",
              "      <th></th>\n",
              "      <th>Team</th>\n",
              "      <th>Tournament</th>\n",
              "      <th>Score</th>\n",
              "      <th>PlayedGames</th>\n",
              "      <th>WonGames</th>\n",
              "      <th>DrawnGames</th>\n",
              "      <th>LostGames</th>\n",
              "      <th>BasketScored</th>\n",
              "      <th>BasketGiven</th>\n",
              "      <th>TournamentChampion</th>\n",
              "      <th>Runner-up</th>\n",
              "      <th>TeamLaunch</th>\n",
              "      <th>HighestPositionHeld</th>\n",
              "    </tr>\n",
              "  </thead>\n",
              "  <tbody>\n",
              "    <tr>\n",
              "      <th>56</th>\n",
              "      <td>Team 57</td>\n",
              "      <td>1</td>\n",
              "      <td>34</td>\n",
              "      <td>38</td>\n",
              "      <td>8</td>\n",
              "      <td>10</td>\n",
              "      <td>20</td>\n",
              "      <td>38</td>\n",
              "      <td>66</td>\n",
              "      <td>-</td>\n",
              "      <td>-</td>\n",
              "      <td>2009-10</td>\n",
              "      <td>20</td>\n",
              "    </tr>\n",
              "    <tr>\n",
              "      <th>57</th>\n",
              "      <td>Team 58</td>\n",
              "      <td>1</td>\n",
              "      <td>22</td>\n",
              "      <td>30</td>\n",
              "      <td>7</td>\n",
              "      <td>8</td>\n",
              "      <td>15</td>\n",
              "      <td>37</td>\n",
              "      <td>57</td>\n",
              "      <td>-</td>\n",
              "      <td>-</td>\n",
              "      <td>1956-57</td>\n",
              "      <td>16</td>\n",
              "    </tr>\n",
              "    <tr>\n",
              "      <th>58</th>\n",
              "      <td>Team 59</td>\n",
              "      <td>1</td>\n",
              "      <td>19</td>\n",
              "      <td>30</td>\n",
              "      <td>7</td>\n",
              "      <td>5</td>\n",
              "      <td>18</td>\n",
              "      <td>51</td>\n",
              "      <td>85</td>\n",
              "      <td>-</td>\n",
              "      <td>-</td>\n",
              "      <td>1951~52</td>\n",
              "      <td>16</td>\n",
              "    </tr>\n",
              "    <tr>\n",
              "      <th>59</th>\n",
              "      <td>Team 60</td>\n",
              "      <td>1</td>\n",
              "      <td>14</td>\n",
              "      <td>30</td>\n",
              "      <td>5</td>\n",
              "      <td>4</td>\n",
              "      <td>21</td>\n",
              "      <td>34</td>\n",
              "      <td>65</td>\n",
              "      <td>-</td>\n",
              "      <td>-</td>\n",
              "      <td>1955-56</td>\n",
              "      <td>15</td>\n",
              "    </tr>\n",
              "    <tr>\n",
              "      <th>60</th>\n",
              "      <td>Team 61</td>\n",
              "      <td>1</td>\n",
              "      <td>-</td>\n",
              "      <td>-</td>\n",
              "      <td>-</td>\n",
              "      <td>-</td>\n",
              "      <td>-</td>\n",
              "      <td>-</td>\n",
              "      <td>-</td>\n",
              "      <td>-</td>\n",
              "      <td>-</td>\n",
              "      <td>2017~18</td>\n",
              "      <td>9</td>\n",
              "    </tr>\n",
              "  </tbody>\n",
              "</table>\n",
              "</div>"
            ],
            "text/plain": [
              "       Team  Tournament Score  ... Runner-up TeamLaunch HighestPositionHeld\n",
              "56  Team 57           1    34  ...         -    2009-10                  20\n",
              "57  Team 58           1    22  ...         -    1956-57                  16\n",
              "58  Team 59           1    19  ...         -    1951~52                  16\n",
              "59  Team 60           1    14  ...         -    1955-56                  15\n",
              "60  Team 61           1     -  ...         -    2017~18                   9\n",
              "\n",
              "[5 rows x 13 columns]"
            ]
          },
          "metadata": {
            "tags": []
          },
          "execution_count": 31
        }
      ]
    },
    {
      "cell_type": "markdown",
      "metadata": {
        "id": "l-8SzomIx2MH"
      },
      "source": [
        "DATA CLEANING"
      ]
    },
    {
      "cell_type": "code",
      "metadata": {
        "colab": {
          "base_uri": "https://localhost:8080/",
          "height": 794
        },
        "id": "f9_lDC6f37Gq",
        "outputId": "d7e89d3f-6555-48d0-adfb-0ab2fddfd882"
      },
      "source": [
        "# To analyse the data, counting the missing values\n",
        "\n",
        "missing_value_counts = Basketball.isnull().sum()\n",
        "print(missing_value_counts[0:13])\n",
        "\n",
        "Basketball= Basketball.replace('-',0)\n",
        "# In 'TeamLaunch' column there are characters like 'to', '-', '~'.  so cleaning data by removing these.\n",
        "\n",
        "Basketball = Basketball.replace(to_replace ='to', value = '-', regex = True)\n",
        "Basketball = Basketball.replace(to_replace ='_', value = '-', regex = True)\n",
        "Basketball = Basketball.replace(to_replace ='~', value = '-', regex = True)\n",
        "\n",
        "Basketball.head(10)"
      ],
      "execution_count": null,
      "outputs": [
        {
          "output_type": "stream",
          "text": [
            "Team                   0\n",
            "Tournament             0\n",
            "Score                  0\n",
            "PlayedGames            0\n",
            "WonGames               0\n",
            "DrawnGames             0\n",
            "LostGames              0\n",
            "BasketScored           0\n",
            "BasketGiven            0\n",
            "TournamentChampion     0\n",
            "Runner-up              0\n",
            "TeamLaunch             0\n",
            "HighestPositionHeld    0\n",
            "dtype: int64\n"
          ],
          "name": "stdout"
        },
        {
          "output_type": "execute_result",
          "data": {
            "text/html": [
              "<div>\n",
              "<style scoped>\n",
              "    .dataframe tbody tr th:only-of-type {\n",
              "        vertical-align: middle;\n",
              "    }\n",
              "\n",
              "    .dataframe tbody tr th {\n",
              "        vertical-align: top;\n",
              "    }\n",
              "\n",
              "    .dataframe thead th {\n",
              "        text-align: right;\n",
              "    }\n",
              "</style>\n",
              "<table border=\"1\" class=\"dataframe\">\n",
              "  <thead>\n",
              "    <tr style=\"text-align: right;\">\n",
              "      <th></th>\n",
              "      <th>Team</th>\n",
              "      <th>Tournament</th>\n",
              "      <th>Score</th>\n",
              "      <th>PlayedGames</th>\n",
              "      <th>WonGames</th>\n",
              "      <th>DrawnGames</th>\n",
              "      <th>LostGames</th>\n",
              "      <th>BasketScored</th>\n",
              "      <th>BasketGiven</th>\n",
              "      <th>TournamentChampion</th>\n",
              "      <th>Runner-up</th>\n",
              "      <th>TeamLaunch</th>\n",
              "      <th>HighestPositionHeld</th>\n",
              "    </tr>\n",
              "  </thead>\n",
              "  <tbody>\n",
              "    <tr>\n",
              "      <th>0</th>\n",
              "      <td>Team 1</td>\n",
              "      <td>86</td>\n",
              "      <td>4385</td>\n",
              "      <td>2762</td>\n",
              "      <td>1647</td>\n",
              "      <td>552</td>\n",
              "      <td>563</td>\n",
              "      <td>5947</td>\n",
              "      <td>3140</td>\n",
              "      <td>33</td>\n",
              "      <td>23</td>\n",
              "      <td>1929</td>\n",
              "      <td>1</td>\n",
              "    </tr>\n",
              "    <tr>\n",
              "      <th>1</th>\n",
              "      <td>Team 2</td>\n",
              "      <td>86</td>\n",
              "      <td>4262</td>\n",
              "      <td>2762</td>\n",
              "      <td>1581</td>\n",
              "      <td>573</td>\n",
              "      <td>608</td>\n",
              "      <td>5900</td>\n",
              "      <td>3114</td>\n",
              "      <td>25</td>\n",
              "      <td>25</td>\n",
              "      <td>1929</td>\n",
              "      <td>1</td>\n",
              "    </tr>\n",
              "    <tr>\n",
              "      <th>2</th>\n",
              "      <td>Team 3</td>\n",
              "      <td>80</td>\n",
              "      <td>3442</td>\n",
              "      <td>2614</td>\n",
              "      <td>1241</td>\n",
              "      <td>598</td>\n",
              "      <td>775</td>\n",
              "      <td>4534</td>\n",
              "      <td>3309</td>\n",
              "      <td>10</td>\n",
              "      <td>8</td>\n",
              "      <td>1929</td>\n",
              "      <td>1</td>\n",
              "    </tr>\n",
              "    <tr>\n",
              "      <th>3</th>\n",
              "      <td>Team 4</td>\n",
              "      <td>82</td>\n",
              "      <td>3386</td>\n",
              "      <td>2664</td>\n",
              "      <td>1187</td>\n",
              "      <td>616</td>\n",
              "      <td>861</td>\n",
              "      <td>4398</td>\n",
              "      <td>3469</td>\n",
              "      <td>6</td>\n",
              "      <td>6</td>\n",
              "      <td>1931-32</td>\n",
              "      <td>1</td>\n",
              "    </tr>\n",
              "    <tr>\n",
              "      <th>4</th>\n",
              "      <td>Team 5</td>\n",
              "      <td>86</td>\n",
              "      <td>3368</td>\n",
              "      <td>2762</td>\n",
              "      <td>1209</td>\n",
              "      <td>633</td>\n",
              "      <td>920</td>\n",
              "      <td>4631</td>\n",
              "      <td>3700</td>\n",
              "      <td>8</td>\n",
              "      <td>7</td>\n",
              "      <td>1929</td>\n",
              "      <td>1</td>\n",
              "    </tr>\n",
              "    <tr>\n",
              "      <th>5</th>\n",
              "      <td>Team 6</td>\n",
              "      <td>73</td>\n",
              "      <td>2819</td>\n",
              "      <td>2408</td>\n",
              "      <td>990</td>\n",
              "      <td>531</td>\n",
              "      <td>887</td>\n",
              "      <td>3680</td>\n",
              "      <td>3373</td>\n",
              "      <td>1</td>\n",
              "      <td>4</td>\n",
              "      <td>1934-35</td>\n",
              "      <td>1</td>\n",
              "    </tr>\n",
              "    <tr>\n",
              "      <th>6</th>\n",
              "      <td>Team 7</td>\n",
              "      <td>82</td>\n",
              "      <td>2792</td>\n",
              "      <td>2626</td>\n",
              "      <td>948</td>\n",
              "      <td>608</td>\n",
              "      <td>1070</td>\n",
              "      <td>3609</td>\n",
              "      <td>3889</td>\n",
              "      <td>0</td>\n",
              "      <td>0</td>\n",
              "      <td>1929</td>\n",
              "      <td>3</td>\n",
              "    </tr>\n",
              "    <tr>\n",
              "      <th>7</th>\n",
              "      <td>Team 8</td>\n",
              "      <td>70</td>\n",
              "      <td>2573</td>\n",
              "      <td>2302</td>\n",
              "      <td>864</td>\n",
              "      <td>577</td>\n",
              "      <td>861</td>\n",
              "      <td>3228</td>\n",
              "      <td>3230</td>\n",
              "      <td>2</td>\n",
              "      <td>3</td>\n",
              "      <td>1929</td>\n",
              "      <td>1</td>\n",
              "    </tr>\n",
              "    <tr>\n",
              "      <th>8</th>\n",
              "      <td>Team 9</td>\n",
              "      <td>58</td>\n",
              "      <td>2109</td>\n",
              "      <td>1986</td>\n",
              "      <td>698</td>\n",
              "      <td>522</td>\n",
              "      <td>766</td>\n",
              "      <td>2683</td>\n",
              "      <td>2847</td>\n",
              "      <td>0</td>\n",
              "      <td>1</td>\n",
              "      <td>1939-40</td>\n",
              "      <td>2</td>\n",
              "    </tr>\n",
              "    <tr>\n",
              "      <th>9</th>\n",
              "      <td>Team 10</td>\n",
              "      <td>51</td>\n",
              "      <td>1884</td>\n",
              "      <td>1728</td>\n",
              "      <td>606</td>\n",
              "      <td>440</td>\n",
              "      <td>682</td>\n",
              "      <td>2159</td>\n",
              "      <td>2492</td>\n",
              "      <td>1</td>\n",
              "      <td>0</td>\n",
              "      <td>1932-33</td>\n",
              "      <td>1</td>\n",
              "    </tr>\n",
              "  </tbody>\n",
              "</table>\n",
              "</div>"
            ],
            "text/plain": [
              "      Team  Tournament Score  ... Runner-up TeamLaunch HighestPositionHeld\n",
              "0   Team 1          86  4385  ...        23       1929                   1\n",
              "1   Team 2          86  4262  ...        25       1929                   1\n",
              "2   Team 3          80  3442  ...         8       1929                   1\n",
              "3   Team 4          82  3386  ...         6    1931-32                   1\n",
              "4   Team 5          86  3368  ...         7       1929                   1\n",
              "5   Team 6          73  2819  ...         4    1934-35                   1\n",
              "6   Team 7          82  2792  ...         0       1929                   3\n",
              "7   Team 8          70  2573  ...         3       1929                   1\n",
              "8   Team 9          58  2109  ...         1    1939-40                   2\n",
              "9  Team 10          51  1884  ...         0    1932-33                   1\n",
              "\n",
              "[10 rows x 13 columns]"
            ]
          },
          "metadata": {
            "tags": []
          },
          "execution_count": 4
        }
      ]
    },
    {
      "cell_type": "code",
      "metadata": {
        "id": "6rjLh9PZEIBJ"
      },
      "source": [
        "# Change the object datatype into int\n",
        "\n",
        "import re  # importing regular expressions library\n",
        "\n",
        "length_col=len(Basketball['TeamLaunch'])\n",
        "\n",
        "# Formatting the teamlauch column so it can be processed as int\n",
        "for dlaunch in range(length_col):\n",
        "    x=Basketball.loc[dlaunch,\"TeamLaunch\"]\n",
        "    temp = re.findall(r'\\d\\d\\d\\d',x)\n",
        "    Basketball.loc[dlaunch,\"TeamLaunch\"]=temp\n",
        "\n",
        "# Changing the data type of 'teamlauch' as int\n",
        "Basketball['TeamLaunch'] = Basketball['TeamLaunch'].astype(int)\n",
        "\n",
        "Basketball.head(10)\n",
        "# Changing the data type of all the columns except 'Team'column of dataframe as int\n",
        "Basketball_conv = Basketball.loc[:,Basketball.columns !='Team']\n",
        "Basketball_conv = Basketball_conv.astype(int)\n"
      ],
      "execution_count": null,
      "outputs": []
    },
    {
      "cell_type": "code",
      "metadata": {
        "colab": {
          "base_uri": "https://localhost:8080/"
        },
        "id": "HMrj5OXxGkln",
        "outputId": "7c847a9d-c874-4037-bc48-6111065bf11d"
      },
      "source": [
        "Basketball_conv.info()"
      ],
      "execution_count": null,
      "outputs": [
        {
          "output_type": "stream",
          "text": [
            "<class 'pandas.core.frame.DataFrame'>\n",
            "RangeIndex: 61 entries, 0 to 60\n",
            "Data columns (total 12 columns):\n",
            " #   Column               Non-Null Count  Dtype\n",
            "---  ------               --------------  -----\n",
            " 0   Tournament           61 non-null     int64\n",
            " 1   Score                61 non-null     int64\n",
            " 2   PlayedGames          61 non-null     int64\n",
            " 3   WonGames             61 non-null     int64\n",
            " 4   DrawnGames           61 non-null     int64\n",
            " 5   LostGames            61 non-null     int64\n",
            " 6   BasketScored         61 non-null     int64\n",
            " 7   BasketGiven          61 non-null     int64\n",
            " 8   TournamentChampion   61 non-null     int64\n",
            " 9   Runner-up            61 non-null     int64\n",
            " 10  TeamLaunch           61 non-null     int64\n",
            " 11  HighestPositionHeld  61 non-null     int64\n",
            "dtypes: int64(12)\n",
            "memory usage: 5.8 KB\n"
          ],
          "name": "stdout"
        }
      ]
    },
    {
      "cell_type": "markdown",
      "metadata": {
        "id": "NTVEaL7esryr"
      },
      "source": [
        "**EXPLORATORY DATA ANALYSIS**"
      ]
    },
    {
      "cell_type": "code",
      "metadata": {
        "colab": {
          "base_uri": "https://localhost:8080/",
          "height": 322
        },
        "id": "LJN9phF9srBJ",
        "outputId": "ad6e0f04-7aed-4492-a820-6263f4c6a5f0"
      },
      "source": [
        "# Appending the 'Team' column which is of data type 'string' and dropped while doing type conversion with the converted dataframe\n",
        "Basketball_conv['Team']=(Basketball['Team'])\n",
        "first_column =Basketball_conv.pop('Team')\n",
        "Basketball_conv.insert(0, 'Team', first_column) # Insert 'Team' as the first column\n",
        "Basketball_conv.head()"
      ],
      "execution_count": null,
      "outputs": [
        {
          "output_type": "execute_result",
          "data": {
            "text/html": [
              "<div>\n",
              "<style scoped>\n",
              "    .dataframe tbody tr th:only-of-type {\n",
              "        vertical-align: middle;\n",
              "    }\n",
              "\n",
              "    .dataframe tbody tr th {\n",
              "        vertical-align: top;\n",
              "    }\n",
              "\n",
              "    .dataframe thead th {\n",
              "        text-align: right;\n",
              "    }\n",
              "</style>\n",
              "<table border=\"1\" class=\"dataframe\">\n",
              "  <thead>\n",
              "    <tr style=\"text-align: right;\">\n",
              "      <th></th>\n",
              "      <th>Team</th>\n",
              "      <th>Tournament</th>\n",
              "      <th>Score</th>\n",
              "      <th>PlayedGames</th>\n",
              "      <th>WonGames</th>\n",
              "      <th>DrawnGames</th>\n",
              "      <th>LostGames</th>\n",
              "      <th>BasketScored</th>\n",
              "      <th>BasketGiven</th>\n",
              "      <th>TournamentChampion</th>\n",
              "      <th>Runner-up</th>\n",
              "      <th>TeamLaunch</th>\n",
              "      <th>HighestPositionHeld</th>\n",
              "    </tr>\n",
              "  </thead>\n",
              "  <tbody>\n",
              "    <tr>\n",
              "      <th>0</th>\n",
              "      <td>Team 1</td>\n",
              "      <td>86</td>\n",
              "      <td>4385</td>\n",
              "      <td>2762</td>\n",
              "      <td>1647</td>\n",
              "      <td>552</td>\n",
              "      <td>563</td>\n",
              "      <td>5947</td>\n",
              "      <td>3140</td>\n",
              "      <td>33</td>\n",
              "      <td>23</td>\n",
              "      <td>1929</td>\n",
              "      <td>1</td>\n",
              "    </tr>\n",
              "    <tr>\n",
              "      <th>1</th>\n",
              "      <td>Team 2</td>\n",
              "      <td>86</td>\n",
              "      <td>4262</td>\n",
              "      <td>2762</td>\n",
              "      <td>1581</td>\n",
              "      <td>573</td>\n",
              "      <td>608</td>\n",
              "      <td>5900</td>\n",
              "      <td>3114</td>\n",
              "      <td>25</td>\n",
              "      <td>25</td>\n",
              "      <td>1929</td>\n",
              "      <td>1</td>\n",
              "    </tr>\n",
              "    <tr>\n",
              "      <th>2</th>\n",
              "      <td>Team 3</td>\n",
              "      <td>80</td>\n",
              "      <td>3442</td>\n",
              "      <td>2614</td>\n",
              "      <td>1241</td>\n",
              "      <td>598</td>\n",
              "      <td>775</td>\n",
              "      <td>4534</td>\n",
              "      <td>3309</td>\n",
              "      <td>10</td>\n",
              "      <td>8</td>\n",
              "      <td>1929</td>\n",
              "      <td>1</td>\n",
              "    </tr>\n",
              "    <tr>\n",
              "      <th>3</th>\n",
              "      <td>Team 4</td>\n",
              "      <td>82</td>\n",
              "      <td>3386</td>\n",
              "      <td>2664</td>\n",
              "      <td>1187</td>\n",
              "      <td>616</td>\n",
              "      <td>861</td>\n",
              "      <td>4398</td>\n",
              "      <td>3469</td>\n",
              "      <td>6</td>\n",
              "      <td>6</td>\n",
              "      <td>1931</td>\n",
              "      <td>1</td>\n",
              "    </tr>\n",
              "    <tr>\n",
              "      <th>4</th>\n",
              "      <td>Team 5</td>\n",
              "      <td>86</td>\n",
              "      <td>3368</td>\n",
              "      <td>2762</td>\n",
              "      <td>1209</td>\n",
              "      <td>633</td>\n",
              "      <td>920</td>\n",
              "      <td>4631</td>\n",
              "      <td>3700</td>\n",
              "      <td>8</td>\n",
              "      <td>7</td>\n",
              "      <td>1929</td>\n",
              "      <td>1</td>\n",
              "    </tr>\n",
              "  </tbody>\n",
              "</table>\n",
              "</div>"
            ],
            "text/plain": [
              "     Team  Tournament  Score  ...  Runner-up  TeamLaunch  HighestPositionHeld\n",
              "0  Team 1          86   4385  ...         23        1929                    1\n",
              "1  Team 2          86   4262  ...         25        1929                    1\n",
              "2  Team 3          80   3442  ...          8        1929                    1\n",
              "3  Team 4          82   3386  ...          6        1931                    1\n",
              "4  Team 5          86   3368  ...          7        1929                    1\n",
              "\n",
              "[5 rows x 13 columns]"
            ]
          },
          "metadata": {
            "tags": []
          },
          "execution_count": 7
        }
      ]
    },
    {
      "cell_type": "code",
      "metadata": {
        "colab": {
          "base_uri": "https://localhost:8080/"
        },
        "id": "m64LWPu5D2MN",
        "outputId": "0af0d040-cff6-452e-e339-3d2b2479947a"
      },
      "source": [
        "# Getting the teams those who played maximum number of Tournament\n",
        "Basketball_conv.groupby(['Team'])['Tournament'].sum().sort_values(ascending=False).head(5)"
      ],
      "execution_count": null,
      "outputs": [
        {
          "output_type": "execute_result",
          "data": {
            "text/plain": [
              "Team\n",
              "Team 1    86\n",
              "Team 5    86\n",
              "Team 2    86\n",
              "Team 7    82\n",
              "Team 4    82\n",
              "Name: Tournament, dtype: int64"
            ]
          },
          "metadata": {
            "tags": []
          },
          "execution_count": 8
        }
      ]
    },
    {
      "cell_type": "code",
      "metadata": {
        "colab": {
          "base_uri": "https://localhost:8080/"
        },
        "id": "pHZegv9mknxs",
        "outputId": "814acf6d-1d20-4f3d-d031-5b2fcab9bba7"
      },
      "source": [
        "# Getting the teams those who played minimum number of Tournament\n",
        "Basketball_conv.groupby(['Team'])['Tournament'].sum().sort_values(ascending=True).head(5)"
      ],
      "execution_count": null,
      "outputs": [
        {
          "output_type": "execute_result",
          "data": {
            "text/plain": [
              "Team\n",
              "Team 56    1\n",
              "Team 59    1\n",
              "Team 58    1\n",
              "Team 61    1\n",
              "Team 57    1\n",
              "Name: Tournament, dtype: int64"
            ]
          },
          "metadata": {
            "tags": []
          },
          "execution_count": 9
        }
      ]
    },
    {
      "cell_type": "code",
      "metadata": {
        "colab": {
          "base_uri": "https://localhost:8080/"
        },
        "id": "U4ykiBrJFaFk",
        "outputId": "b45676f1-bd0b-4598-f116-4df644b5ddae"
      },
      "source": [
        "# Calculate the winning percentage of the team from PlayedGames\tand WonGames and adding extra column to the dataframe\n",
        "Basketball_conv['WinResult'] = Basketball_conv['WonGames']/Basketball_conv['PlayedGames']\n",
        "Basketball_conv['WinResult'].dtype\n",
        "TopWin = Basketball_conv['WinResult'].sort_values(ascending =False).head(10)\n",
        "print('The top 5 teams, which won the maximum games are')\n",
        "Basketball_conv.groupby(['Team'])['WinResult'].sum().sort_values(ascending =False).head(5)"
      ],
      "execution_count": null,
      "outputs": [
        {
          "output_type": "stream",
          "text": [
            "The top 5 teams, which won the maximum games are\n"
          ],
          "name": "stdout"
        },
        {
          "output_type": "execute_result",
          "data": {
            "text/plain": [
              "Team\n",
              "Team 1    0.596307\n",
              "Team 2    0.572411\n",
              "Team 3    0.474751\n",
              "Team 4    0.445571\n",
              "Team 5    0.437726\n",
              "Name: WinResult, dtype: float64"
            ]
          },
          "metadata": {
            "tags": []
          },
          "execution_count": 10
        }
      ]
    },
    {
      "cell_type": "code",
      "metadata": {
        "colab": {
          "base_uri": "https://localhost:8080/"
        },
        "id": "46hrP6oWUF1-",
        "outputId": "a5308f5d-3499-4e9b-d254-4eef62864846"
      },
      "source": [
        "# Calculate the percentage of getting championship against tounament played\n",
        "Basketball_conv['Champions'] = Basketball_conv['TournamentChampion']/Basketball_conv['Tournament']\n",
        "Basketball_conv['Champions'].dtype\n",
        "TopChampions = Basketball_conv['Champions'].sort_values(ascending =False).head(10)\n",
        "print('The top 5 teams which became Champions are:')\n",
        "Basketball_conv.groupby(['Team'])['Champions'].sum().sort_values(ascending =False).head(5)"
      ],
      "execution_count": null,
      "outputs": [
        {
          "output_type": "stream",
          "text": [
            "The top 5 teams which became Champions are:\n"
          ],
          "name": "stdout"
        },
        {
          "output_type": "execute_result",
          "data": {
            "text/plain": [
              "Team\n",
              "Team 1    0.383721\n",
              "Team 2    0.290698\n",
              "Team 3    0.125000\n",
              "Team 5    0.093023\n",
              "Team 4    0.073171\n",
              "Name: Champions, dtype: float64"
            ]
          },
          "metadata": {
            "tags": []
          },
          "execution_count": 11
        }
      ]
    },
    {
      "cell_type": "code",
      "metadata": {
        "colab": {
          "base_uri": "https://localhost:8080/"
        },
        "id": "S6WaxKFIVHv2",
        "outputId": "2653268e-e983-44ad-993e-bb4adbe08cdf"
      },
      "source": [
        "# Calculate the total period, the team is playing the tournament assuming the teams included upto 2020\n",
        "Basketball_conv['TeamAge'] = 2020-Basketball_conv['TeamLaunch']\n",
        "print('The oldest team in the tournament is of age: ',Basketball_conv['TeamAge'].max())\n",
        "print('The oldest team in the tournament are: ')\n",
        "print(Basketball_conv[Basketball_conv['TeamAge'] == Basketball_conv['TeamAge'].max()])"
      ],
      "execution_count": null,
      "outputs": [
        {
          "output_type": "stream",
          "text": [
            "The oldest team in the tournament is of age:  91\n",
            "The oldest team in the tournament are: \n",
            "       Team  Tournament  Score  ...  WinResult  Champions  TeamAge\n",
            "0    Team 1          86   4385  ...   0.596307   0.383721       91\n",
            "1    Team 2          86   4262  ...   0.572411   0.290698       91\n",
            "2    Team 3          80   3442  ...   0.474751   0.125000       91\n",
            "4    Team 5          86   3368  ...   0.437726   0.093023       91\n",
            "6    Team 7          82   2792  ...   0.361005   0.000000       91\n",
            "7    Team 8          70   2573  ...   0.375326   0.028571       91\n",
            "13  Team 14          44   1416  ...   0.317227   0.000000       91\n",
            "44  Team 45           7    107  ...   0.330769   0.000000       91\n",
            "51  Team 52           4     56  ...   0.291667   0.000000       91\n",
            "53  Team 54           3     42  ...   0.333333   0.000000       91\n",
            "\n",
            "[10 rows x 16 columns]\n"
          ],
          "name": "stdout"
        }
      ]
    },
    {
      "cell_type": "code",
      "metadata": {
        "colab": {
          "base_uri": "https://localhost:8080/"
        },
        "id": "J8QIdmC9hC-C",
        "outputId": "250d6da2-b6a2-4ee9-f6ba-6e9bdcdb64e8"
      },
      "source": [
        "print('The newest team in the tournament is of age: ',Basketball_conv['TeamAge'].min())\n",
        "print('The newest team in the tournament are: ')\n",
        "print(Basketball_conv[Basketball_conv['TeamAge'] == Basketball_conv['TeamAge'].min()])"
      ],
      "execution_count": null,
      "outputs": [
        {
          "output_type": "stream",
          "text": [
            "The newest team in the tournament is of age:  3\n",
            "The newest team in the tournament are: \n",
            "       Team  Tournament  Score  ...  WinResult  Champions  TeamAge\n",
            "60  Team 61           1      0  ...        NaN        0.0        3\n",
            "\n",
            "[1 rows x 16 columns]\n"
          ],
          "name": "stdout"
        }
      ]
    },
    {
      "cell_type": "code",
      "metadata": {
        "colab": {
          "base_uri": "https://localhost:8080/"
        },
        "id": "9p4tN8_Ph0FN",
        "outputId": "9ccd85d0-acba-4598-ea54-fb71c9214b68"
      },
      "source": [
        "# Getting the teams those who played maximum number of Tournament against the age of the team\n",
        "Basketball_conv['TeamExperience'] = Basketball_conv['TeamAge']/Basketball_conv['Tournament']\n",
        "Basketball_conv['TeamExperience'].dtype\n",
        "print('The top 5 teams with maximum experience of Tournament are:')\n",
        "Basketball_conv.groupby(['Team'])['TeamExperience'].sum().sort_values(ascending =False).head(5)"
      ],
      "execution_count": null,
      "outputs": [
        {
          "output_type": "stream",
          "text": [
            "The top 5 teams with maximum experience of Tournament are:\n"
          ],
          "name": "stdout"
        },
        {
          "output_type": "execute_result",
          "data": {
            "text/plain": [
              "Team\n",
              "Team 59    69.000000\n",
              "Team 60    65.000000\n",
              "Team 58    64.000000\n",
              "Team 55    35.000000\n",
              "Team 54    30.333333\n",
              "Name: TeamExperience, dtype: float64"
            ]
          },
          "metadata": {
            "tags": []
          },
          "execution_count": 14
        }
      ]
    },
    {
      "cell_type": "code",
      "metadata": {
        "colab": {
          "base_uri": "https://localhost:8080/"
        },
        "id": "btyRMceJlwHq",
        "outputId": "56d5ab33-f01b-4509-b17d-e351827d61e6"
      },
      "source": [
        "print('The 5 teams with minimum experience of Tournament are:')\n",
        "Basketball_conv.groupby(['Team'])['TeamExperience'].sum().sort_values(ascending =True).head(5)"
      ],
      "execution_count": null,
      "outputs": [
        {
          "output_type": "stream",
          "text": [
            "The 5 teams with minimum experience of Tournament are:\n"
          ],
          "name": "stdout"
        },
        {
          "output_type": "execute_result",
          "data": {
            "text/plain": [
              "Team\n",
              "Team 1    1.058140\n",
              "Team 5    1.058140\n",
              "Team 2    1.058140\n",
              "Team 4    1.085366\n",
              "Team 7    1.109756\n",
              "Name: TeamExperience, dtype: float64"
            ]
          },
          "metadata": {
            "tags": []
          },
          "execution_count": 15
        }
      ]
    },
    {
      "cell_type": "code",
      "metadata": {
        "colab": {
          "base_uri": "https://localhost:8080/"
        },
        "id": "qGWFgsm-i7Rc",
        "outputId": "8941bd94-f30c-4711-adb3-f36a55ee2b25"
      },
      "source": [
        "# Calculate the percentage of getting championship against experience\n",
        "Basketball_conv['TeamPerformance'] = Basketball_conv['Champions']/Basketball_conv['TeamExperience']\n",
        "Basketball_conv['TeamPerformance'].dtype\n",
        "print('The top 5 teams with the percentage of getting championship against experience are:')\n",
        "Basketball_conv.groupby(['Team'])['TeamPerformance'].sum().sort_values(ascending =False).head(5)"
      ],
      "execution_count": null,
      "outputs": [
        {
          "output_type": "stream",
          "text": [
            "The top 5 teams with the percentage of getting championship against experience are:\n"
          ],
          "name": "stdout"
        },
        {
          "output_type": "execute_result",
          "data": {
            "text/plain": [
              "Team\n",
              "Team 1    0.362637\n",
              "Team 2    0.274725\n",
              "Team 3    0.109890\n",
              "Team 5    0.087912\n",
              "Team 4    0.067416\n",
              "Name: TeamPerformance, dtype: float64"
            ]
          },
          "metadata": {
            "tags": []
          },
          "execution_count": 16
        }
      ]
    },
    {
      "cell_type": "code",
      "metadata": {
        "colab": {
          "base_uri": "https://localhost:8080/",
          "height": 415
        },
        "id": "jBzwFEI0jd4y",
        "outputId": "f2e163c9-9792-4a5e-b549-98ae57c6571c"
      },
      "source": [
        "# Lets Filter the dataframe to understand age of the team, WinResult, Champions,Team Experience and Team Performance\n",
        "df_1=Basketball_conv.filter(items=['Team', 'TeamAge', 'TeamExperience','TeamPerformance','WinResult','Champions'])\n",
        "df_1"
      ],
      "execution_count": null,
      "outputs": [
        {
          "output_type": "execute_result",
          "data": {
            "text/html": [
              "<div>\n",
              "<style scoped>\n",
              "    .dataframe tbody tr th:only-of-type {\n",
              "        vertical-align: middle;\n",
              "    }\n",
              "\n",
              "    .dataframe tbody tr th {\n",
              "        vertical-align: top;\n",
              "    }\n",
              "\n",
              "    .dataframe thead th {\n",
              "        text-align: right;\n",
              "    }\n",
              "</style>\n",
              "<table border=\"1\" class=\"dataframe\">\n",
              "  <thead>\n",
              "    <tr style=\"text-align: right;\">\n",
              "      <th></th>\n",
              "      <th>Team</th>\n",
              "      <th>TeamAge</th>\n",
              "      <th>TeamExperience</th>\n",
              "      <th>TeamPerformance</th>\n",
              "      <th>WinResult</th>\n",
              "      <th>Champions</th>\n",
              "    </tr>\n",
              "  </thead>\n",
              "  <tbody>\n",
              "    <tr>\n",
              "      <th>0</th>\n",
              "      <td>Team 1</td>\n",
              "      <td>91</td>\n",
              "      <td>1.058140</td>\n",
              "      <td>0.362637</td>\n",
              "      <td>0.596307</td>\n",
              "      <td>0.383721</td>\n",
              "    </tr>\n",
              "    <tr>\n",
              "      <th>1</th>\n",
              "      <td>Team 2</td>\n",
              "      <td>91</td>\n",
              "      <td>1.058140</td>\n",
              "      <td>0.274725</td>\n",
              "      <td>0.572411</td>\n",
              "      <td>0.290698</td>\n",
              "    </tr>\n",
              "    <tr>\n",
              "      <th>2</th>\n",
              "      <td>Team 3</td>\n",
              "      <td>91</td>\n",
              "      <td>1.137500</td>\n",
              "      <td>0.109890</td>\n",
              "      <td>0.474751</td>\n",
              "      <td>0.125000</td>\n",
              "    </tr>\n",
              "    <tr>\n",
              "      <th>3</th>\n",
              "      <td>Team 4</td>\n",
              "      <td>89</td>\n",
              "      <td>1.085366</td>\n",
              "      <td>0.067416</td>\n",
              "      <td>0.445571</td>\n",
              "      <td>0.073171</td>\n",
              "    </tr>\n",
              "    <tr>\n",
              "      <th>4</th>\n",
              "      <td>Team 5</td>\n",
              "      <td>91</td>\n",
              "      <td>1.058140</td>\n",
              "      <td>0.087912</td>\n",
              "      <td>0.437726</td>\n",
              "      <td>0.093023</td>\n",
              "    </tr>\n",
              "    <tr>\n",
              "      <th>...</th>\n",
              "      <td>...</td>\n",
              "      <td>...</td>\n",
              "      <td>...</td>\n",
              "      <td>...</td>\n",
              "      <td>...</td>\n",
              "      <td>...</td>\n",
              "    </tr>\n",
              "    <tr>\n",
              "      <th>56</th>\n",
              "      <td>Team 57</td>\n",
              "      <td>11</td>\n",
              "      <td>11.000000</td>\n",
              "      <td>0.000000</td>\n",
              "      <td>0.210526</td>\n",
              "      <td>0.000000</td>\n",
              "    </tr>\n",
              "    <tr>\n",
              "      <th>57</th>\n",
              "      <td>Team 58</td>\n",
              "      <td>64</td>\n",
              "      <td>64.000000</td>\n",
              "      <td>0.000000</td>\n",
              "      <td>0.233333</td>\n",
              "      <td>0.000000</td>\n",
              "    </tr>\n",
              "    <tr>\n",
              "      <th>58</th>\n",
              "      <td>Team 59</td>\n",
              "      <td>69</td>\n",
              "      <td>69.000000</td>\n",
              "      <td>0.000000</td>\n",
              "      <td>0.233333</td>\n",
              "      <td>0.000000</td>\n",
              "    </tr>\n",
              "    <tr>\n",
              "      <th>59</th>\n",
              "      <td>Team 60</td>\n",
              "      <td>65</td>\n",
              "      <td>65.000000</td>\n",
              "      <td>0.000000</td>\n",
              "      <td>0.166667</td>\n",
              "      <td>0.000000</td>\n",
              "    </tr>\n",
              "    <tr>\n",
              "      <th>60</th>\n",
              "      <td>Team 61</td>\n",
              "      <td>3</td>\n",
              "      <td>3.000000</td>\n",
              "      <td>0.000000</td>\n",
              "      <td>NaN</td>\n",
              "      <td>0.000000</td>\n",
              "    </tr>\n",
              "  </tbody>\n",
              "</table>\n",
              "<p>61 rows × 6 columns</p>\n",
              "</div>"
            ],
            "text/plain": [
              "       Team  TeamAge  TeamExperience  TeamPerformance  WinResult  Champions\n",
              "0    Team 1       91        1.058140         0.362637   0.596307   0.383721\n",
              "1    Team 2       91        1.058140         0.274725   0.572411   0.290698\n",
              "2    Team 3       91        1.137500         0.109890   0.474751   0.125000\n",
              "3    Team 4       89        1.085366         0.067416   0.445571   0.073171\n",
              "4    Team 5       91        1.058140         0.087912   0.437726   0.093023\n",
              "..      ...      ...             ...              ...        ...        ...\n",
              "56  Team 57       11       11.000000         0.000000   0.210526   0.000000\n",
              "57  Team 58       64       64.000000         0.000000   0.233333   0.000000\n",
              "58  Team 59       69       69.000000         0.000000   0.233333   0.000000\n",
              "59  Team 60       65       65.000000         0.000000   0.166667   0.000000\n",
              "60  Team 61        3        3.000000         0.000000        NaN   0.000000\n",
              "\n",
              "[61 rows x 6 columns]"
            ]
          },
          "metadata": {
            "tags": []
          },
          "execution_count": 17
        }
      ]
    },
    {
      "cell_type": "code",
      "metadata": {
        "colab": {
          "base_uri": "https://localhost:8080/",
          "height": 870
        },
        "id": "cWFkRHI-oPPA",
        "outputId": "7a9b8281-6f3c-441f-962a-e1fb6f05f956"
      },
      "source": [
        "# Let's find the team with better performance\n",
        "plt.figure(figsize = (16,16))\n",
        "# Plot the teamAge against the Team Performance\n",
        "sns.barplot(x='TeamAge', y='TeamPerformance',data=df_1)"
      ],
      "execution_count": null,
      "outputs": [
        {
          "output_type": "execute_result",
          "data": {
            "text/plain": [
              "<matplotlib.axes._subplots.AxesSubplot at 0x7f38ce384b90>"
            ]
          },
          "metadata": {
            "tags": []
          },
          "execution_count": 18
        },
        {
          "output_type": "display_data",
          "data": {
            "image/png": "[encoded data removed]",
            "text/plain": [
              "<Figure size 1152x1152 with 1 Axes>"
            ]
          },
          "metadata": {
            "tags": [],
            "needs_background": "light"
          }
        }
      ]
    },
    {
      "cell_type": "markdown",
      "metadata": {
        "id": "yy5eOa1OMVPc"
      },
      "source": [
        "**It is observed that Team of the age 91 has better performance.(Team 1, 2 and 3)**"
      ]
    },
    {
      "cell_type": "code",
      "metadata": {
        "colab": {
          "base_uri": "https://localhost:8080/",
          "height": 622
        },
        "id": "nrG5LSB1NCyJ",
        "outputId": "eb06834b-342b-4680-c3e8-7c84a898ae33"
      },
      "source": [
        "# Let's find the team with better win results\n",
        "# Plot the top 10 teams which gave better win results\n",
        "df_2=Basketball_conv.groupby(['TeamAge'])['WinResult'].sum().sort_values(ascending =False).head(10)\n",
        "plt.figure(figsize = (10,10))\n",
        "sns.barplot(y = df_2.values ,x = df_2.index)"
      ],
      "execution_count": null,
      "outputs": [
        {
          "output_type": "execute_result",
          "data": {
            "text/plain": [
              "<matplotlib.axes._subplots.AxesSubplot at 0x7f38cf421f90>"
            ]
          },
          "metadata": {
            "tags": []
          },
          "execution_count": 19
        },
        {
          "output_type": "display_data",
          "data": {
            "image/png": "[encoded data removed]",
            "text/plain": [
              "<Figure size 720x720 with 1 Axes>"
            ]
          },
          "metadata": {
            "tags": [],
            "needs_background": "light"
          }
        }
      ]
    },
    {
      "cell_type": "markdown",
      "metadata": {
        "id": "2qhHbfl5UPcR"
      },
      "source": [
        " **It is observed that Team of age 91 and 79 has Won more games with respect to the total games played.**"
      ]
    },
    {
      "cell_type": "code",
      "metadata": {
        "colab": {
          "base_uri": "https://localhost:8080/",
          "height": 202
        },
        "id": "2YZBj9ZrNCZk",
        "outputId": "ff7abf36-27db-471c-d442-c60262b60bed"
      },
      "source": [
        "#  Let's find the correlation matrix between all the performance metrics\n",
        "corr=df_1.corr()\n",
        "corr"
      ],
      "execution_count": null,
      "outputs": [
        {
          "output_type": "execute_result",
          "data": {
            "text/html": [
              "<div>\n",
              "<style scoped>\n",
              "    .dataframe tbody tr th:only-of-type {\n",
              "        vertical-align: middle;\n",
              "    }\n",
              "\n",
              "    .dataframe tbody tr th {\n",
              "        vertical-align: top;\n",
              "    }\n",
              "\n",
              "    .dataframe thead th {\n",
              "        text-align: right;\n",
              "    }\n",
              "</style>\n",
              "<table border=\"1\" class=\"dataframe\">\n",
              "  <thead>\n",
              "    <tr style=\"text-align: right;\">\n",
              "      <th></th>\n",
              "      <th>TeamAge</th>\n",
              "      <th>TeamExperience</th>\n",
              "      <th>TeamPerformance</th>\n",
              "      <th>WinResult</th>\n",
              "      <th>Champions</th>\n",
              "    </tr>\n",
              "  </thead>\n",
              "  <tbody>\n",
              "    <tr>\n",
              "      <th>TeamAge</th>\n",
              "      <td>1.000000</td>\n",
              "      <td>0.046113</td>\n",
              "      <td>0.285774</td>\n",
              "      <td>0.491259</td>\n",
              "      <td>0.292787</td>\n",
              "    </tr>\n",
              "    <tr>\n",
              "      <th>TeamExperience</th>\n",
              "      <td>0.046113</td>\n",
              "      <td>1.000000</td>\n",
              "      <td>-0.149389</td>\n",
              "      <td>-0.450864</td>\n",
              "      <td>-0.153466</td>\n",
              "    </tr>\n",
              "    <tr>\n",
              "      <th>TeamPerformance</th>\n",
              "      <td>0.285774</td>\n",
              "      <td>-0.149389</td>\n",
              "      <td>1.000000</td>\n",
              "      <td>0.766421</td>\n",
              "      <td>0.999545</td>\n",
              "    </tr>\n",
              "    <tr>\n",
              "      <th>WinResult</th>\n",
              "      <td>0.491259</td>\n",
              "      <td>-0.450864</td>\n",
              "      <td>0.766421</td>\n",
              "      <td>1.000000</td>\n",
              "      <td>0.772811</td>\n",
              "    </tr>\n",
              "    <tr>\n",
              "      <th>Champions</th>\n",
              "      <td>0.292787</td>\n",
              "      <td>-0.153466</td>\n",
              "      <td>0.999545</td>\n",
              "      <td>0.772811</td>\n",
              "      <td>1.000000</td>\n",
              "    </tr>\n",
              "  </tbody>\n",
              "</table>\n",
              "</div>"
            ],
            "text/plain": [
              "                  TeamAge  TeamExperience  ...  WinResult  Champions\n",
              "TeamAge          1.000000        0.046113  ...   0.491259   0.292787\n",
              "TeamExperience   0.046113        1.000000  ...  -0.450864  -0.153466\n",
              "TeamPerformance  0.285774       -0.149389  ...   0.766421   0.999545\n",
              "WinResult        0.491259       -0.450864  ...   1.000000   0.772811\n",
              "Champions        0.292787       -0.153466  ...   0.772811   1.000000\n",
              "\n",
              "[5 rows x 5 columns]"
            ]
          },
          "metadata": {
            "tags": []
          },
          "execution_count": 20
        }
      ]
    },
    {
      "cell_type": "code",
      "metadata": {
        "colab": {
          "base_uri": "https://localhost:8080/",
          "height": 366
        },
        "id": "oYeYAREUXjx6",
        "outputId": "a78be259-aa6e-4297-acd1-2daa8c4258c8"
      },
      "source": [
        "sns.heatmap(corr, annot = True)"
      ],
      "execution_count": null,
      "outputs": [
        {
          "output_type": "execute_result",
          "data": {
            "text/plain": [
              "<matplotlib.axes._subplots.AxesSubplot at 0x7f38cdc9f5d0>"
            ]
          },
          "metadata": {
            "tags": []
          },
          "execution_count": 21
        },
        {
          "output_type": "display_data",
          "data": {
            "image/png": "[encoded data removed]",
            "text/plain": [
              "<Figure size 432x288 with 2 Axes>"
            ]
          },
          "metadata": {
            "tags": [],
            "needs_background": "light"
          }
        }
      ]
    },
    {
      "cell_type": "markdown",
      "metadata": {
        "id": "rNKX3y0RW7Bj"
      },
      "source": [
        "**The Correlation table shows high correlation between Team Performance and Tournament Champions**."
      ]
    },
    {
      "cell_type": "code",
      "metadata": {
        "colab": {
          "base_uri": "https://localhost:8080/",
          "height": 622
        },
        "id": "IpCY2d82Y12o",
        "outputId": "b971d363-53e0-496e-fa82-841070d3ac78"
      },
      "source": [
        "# Let's find the team which has got championship\n",
        "# Plot the top 10 teams which were champions\n",
        "df_3=Basketball_conv.groupby(['TeamAge'])['Champions'].sum().sort_values(ascending =False).head(10)\n",
        "plt.figure(figsize = (10,10))\n",
        "sns.barplot(y = df_3.values ,x = df_3.index)"
      ],
      "execution_count": null,
      "outputs": [
        {
          "output_type": "execute_result",
          "data": {
            "text/plain": [
              "<matplotlib.axes._subplots.AxesSubplot at 0x7f38cdc1b410>"
            ]
          },
          "metadata": {
            "tags": []
          },
          "execution_count": 22
        },
        {
          "output_type": "display_data",
          "data": {
            "image/png": "[encoded data removed]",
            "text/plain": [
              "<Figure size 720x720 with 1 Axes>"
            ]
          },
          "metadata": {
            "tags": [],
            "needs_background": "light"
          }
        }
      ]
    },
    {
      "cell_type": "code",
      "metadata": {
        "colab": {
          "base_uri": "https://localhost:8080/",
          "height": 296
        },
        "id": "KAnLKMp2Zjz9",
        "outputId": "16254635-aa10-4eb0-eb93-eb0cdd7e9b6b"
      },
      "source": [
        "# Lets compare New vs old team's performance with respect to age and Highest Position based on Championship\n",
        "sns.scatterplot(data=Basketball_conv, x=\"Champions\", y=\"HighestPositionHeld\",size=\"TeamAge\")"
      ],
      "execution_count": null,
      "outputs": [
        {
          "output_type": "execute_result",
          "data": {
            "text/plain": [
              "<matplotlib.axes._subplots.AxesSubplot at 0x7f38c5371c50>"
            ]
          },
          "metadata": {
            "tags": []
          },
          "execution_count": 23
        },
        {
          "output_type": "display_data",
          "data": {
            "image/png": "[encoded data removed]",
            "text/plain": [
              "<Figure size 432x288 with 1 Axes>"
            ]
          },
          "metadata": {
            "tags": [],
            "needs_background": "light"
          }
        }
      ]
    },
    {
      "cell_type": "code",
      "metadata": {
        "colab": {
          "base_uri": "https://localhost:8080/",
          "height": 296
        },
        "id": "-DFZl2n-ecze",
        "outputId": "3d17294a-4119-4f55-c888-727c06f943a5"
      },
      "source": [
        "# Lets compare New vs old team's performance with respect to age and Highest Position based on WinResult\n",
        "sns.scatterplot(data=Basketball_conv, x=\"WinResult\", y=\"HighestPositionHeld\",size=\"TeamAge\")"
      ],
      "execution_count": null,
      "outputs": [
        {
          "output_type": "execute_result",
          "data": {
            "text/plain": [
              "<matplotlib.axes._subplots.AxesSubplot at 0x7f38c51d3d10>"
            ]
          },
          "metadata": {
            "tags": []
          },
          "execution_count": 24
        },
        {
          "output_type": "display_data",
          "data": {
            "image/png": "[encoded data removed]",
            "text/plain": [
              "<Figure size 432x288 with 1 Axes>"
            ]
          },
          "metadata": {
            "tags": [],
            "needs_background": "light"
          }
        }
      ]
    },
    {
      "cell_type": "markdown",
      "metadata": {
        "id": "C2FvKCEgsmQc"
      },
      "source": [
        "Team of age 15 (Young Team) held the Highest Position"
      ]
    },
    {
      "cell_type": "code",
      "metadata": {
        "colab": {
          "base_uri": "https://localhost:8080/",
          "height": 981
        },
        "id": "S_1yd755o6F4",
        "outputId": "09aa2fcb-c622-4a27-b0b1-8d6f70437e12"
      },
      "source": [
        "sns.lmplot(x=\"WinResult\", y=\"HighestPositionHeld\", hue = \"Team\", data=Basketball_conv)"
      ],
      "execution_count": null,
      "outputs": [
        {
          "output_type": "execute_result",
          "data": {
            "text/plain": [
              "<seaborn.axisgrid.FacetGrid at 0x7f38c52ed0d0>"
            ]
          },
          "metadata": {
            "tags": []
          },
          "execution_count": 25
        },
        {
          "output_type": "display_data",
          "data": {
            "image/png": "[encoded data removed]",
            "text/plain": [
              "<Figure size 438x360 with 1 Axes>"
            ]
          },
          "metadata": {
            "tags": [],
            "needs_background": "light"
          }
        }
      ]
    },
    {
      "cell_type": "markdown",
      "metadata": {
        "id": "Fpg9mzhMtFqj"
      },
      "source": [
        "Team 57 held the Highest Position"
      ]
    },
    {
      "cell_type": "markdown",
      "metadata": {
        "id": "SxfgRXU4tyFx"
      },
      "source": [
        "**TOP 5 TEAMS FROM BELOW CONSOLIDATED TABLES A AND B CAN TREATED AS BEST PERFORMERS AND HENCE COMPANY CAN CHOOSE BETWEEN THESE TEAMS FOR SPONSORSHIP**"
      ]
    },
    {
      "cell_type": "code",
      "metadata": {
        "colab": {
          "base_uri": "https://localhost:8080/",
          "height": 219
        },
        "id": "Cgy6WvIgqIqf",
        "outputId": "3fd90c7b-3fd9-4a6a-ef7b-8e3263283394"
      },
      "source": [
        "df_4 = df_1.sort_values(by='WinResult',ascending=False) # Top performing teams\n",
        "print('TOP OLD TEAMS TABLE A')\n",
        "df_4.sort_values(by='TeamAge',ascending=False).head(5) # Top Performing old teams"
      ],
      "execution_count": null,
      "outputs": [
        {
          "output_type": "stream",
          "text": [
            "TOP OLD TEAMS TABLE A\n"
          ],
          "name": "stdout"
        },
        {
          "output_type": "execute_result",
          "data": {
            "text/html": [
              "<div>\n",
              "<style scoped>\n",
              "    .dataframe tbody tr th:only-of-type {\n",
              "        vertical-align: middle;\n",
              "    }\n",
              "\n",
              "    .dataframe tbody tr th {\n",
              "        vertical-align: top;\n",
              "    }\n",
              "\n",
              "    .dataframe thead th {\n",
              "        text-align: right;\n",
              "    }\n",
              "</style>\n",
              "<table border=\"1\" class=\"dataframe\">\n",
              "  <thead>\n",
              "    <tr style=\"text-align: right;\">\n",
              "      <th></th>\n",
              "      <th>Team</th>\n",
              "      <th>TeamAge</th>\n",
              "      <th>TeamExperience</th>\n",
              "      <th>TeamPerformance</th>\n",
              "      <th>WinResult</th>\n",
              "      <th>Champions</th>\n",
              "    </tr>\n",
              "  </thead>\n",
              "  <tbody>\n",
              "    <tr>\n",
              "      <th>0</th>\n",
              "      <td>Team 1</td>\n",
              "      <td>91</td>\n",
              "      <td>1.05814</td>\n",
              "      <td>0.362637</td>\n",
              "      <td>0.596307</td>\n",
              "      <td>0.383721</td>\n",
              "    </tr>\n",
              "    <tr>\n",
              "      <th>51</th>\n",
              "      <td>Team 52</td>\n",
              "      <td>91</td>\n",
              "      <td>22.75000</td>\n",
              "      <td>0.000000</td>\n",
              "      <td>0.291667</td>\n",
              "      <td>0.000000</td>\n",
              "    </tr>\n",
              "    <tr>\n",
              "      <th>2</th>\n",
              "      <td>Team 3</td>\n",
              "      <td>91</td>\n",
              "      <td>1.13750</td>\n",
              "      <td>0.109890</td>\n",
              "      <td>0.474751</td>\n",
              "      <td>0.125000</td>\n",
              "    </tr>\n",
              "    <tr>\n",
              "      <th>4</th>\n",
              "      <td>Team 5</td>\n",
              "      <td>91</td>\n",
              "      <td>1.05814</td>\n",
              "      <td>0.087912</td>\n",
              "      <td>0.437726</td>\n",
              "      <td>0.093023</td>\n",
              "    </tr>\n",
              "    <tr>\n",
              "      <th>1</th>\n",
              "      <td>Team 2</td>\n",
              "      <td>91</td>\n",
              "      <td>1.05814</td>\n",
              "      <td>0.274725</td>\n",
              "      <td>0.572411</td>\n",
              "      <td>0.290698</td>\n",
              "    </tr>\n",
              "  </tbody>\n",
              "</table>\n",
              "</div>"
            ],
            "text/plain": [
              "       Team  TeamAge  TeamExperience  TeamPerformance  WinResult  Champions\n",
              "0    Team 1       91         1.05814         0.362637   0.596307   0.383721\n",
              "51  Team 52       91        22.75000         0.000000   0.291667   0.000000\n",
              "2    Team 3       91         1.13750         0.109890   0.474751   0.125000\n",
              "4    Team 5       91         1.05814         0.087912   0.437726   0.093023\n",
              "1    Team 2       91         1.05814         0.274725   0.572411   0.290698"
            ]
          },
          "metadata": {
            "tags": []
          },
          "execution_count": 26
        }
      ]
    },
    {
      "cell_type": "code",
      "metadata": {
        "colab": {
          "base_uri": "https://localhost:8080/",
          "height": 219
        },
        "id": "cFu41acmuibJ",
        "outputId": "5f4c5465-016e-4476-f6cf-f541c83f59ee"
      },
      "source": [
        "df_5 = df_1.sort_values(by='TeamExperience',ascending=False) # Top performing teams\n",
        "print('TOP OLD TEAMS :TABLE B')\n",
        "df_5.sort_values(by='TeamAge',ascending=False).head(5)"
      ],
      "execution_count": null,
      "outputs": [
        {
          "output_type": "stream",
          "text": [
            "TOP OLD TEAMS :TABLE B\n"
          ],
          "name": "stdout"
        },
        {
          "output_type": "execute_result",
          "data": {
            "text/html": [
              "<div>\n",
              "<style scoped>\n",
              "    .dataframe tbody tr th:only-of-type {\n",
              "        vertical-align: middle;\n",
              "    }\n",
              "\n",
              "    .dataframe tbody tr th {\n",
              "        vertical-align: top;\n",
              "    }\n",
              "\n",
              "    .dataframe thead th {\n",
              "        text-align: right;\n",
              "    }\n",
              "</style>\n",
              "<table border=\"1\" class=\"dataframe\">\n",
              "  <thead>\n",
              "    <tr style=\"text-align: right;\">\n",
              "      <th></th>\n",
              "      <th>Team</th>\n",
              "      <th>TeamAge</th>\n",
              "      <th>TeamExperience</th>\n",
              "      <th>TeamPerformance</th>\n",
              "      <th>WinResult</th>\n",
              "      <th>Champions</th>\n",
              "    </tr>\n",
              "  </thead>\n",
              "  <tbody>\n",
              "    <tr>\n",
              "      <th>0</th>\n",
              "      <td>Team 1</td>\n",
              "      <td>91</td>\n",
              "      <td>1.058140</td>\n",
              "      <td>0.362637</td>\n",
              "      <td>0.596307</td>\n",
              "      <td>0.383721</td>\n",
              "    </tr>\n",
              "    <tr>\n",
              "      <th>4</th>\n",
              "      <td>Team 5</td>\n",
              "      <td>91</td>\n",
              "      <td>1.058140</td>\n",
              "      <td>0.087912</td>\n",
              "      <td>0.437726</td>\n",
              "      <td>0.093023</td>\n",
              "    </tr>\n",
              "    <tr>\n",
              "      <th>53</th>\n",
              "      <td>Team 54</td>\n",
              "      <td>91</td>\n",
              "      <td>30.333333</td>\n",
              "      <td>0.000000</td>\n",
              "      <td>0.333333</td>\n",
              "      <td>0.000000</td>\n",
              "    </tr>\n",
              "    <tr>\n",
              "      <th>51</th>\n",
              "      <td>Team 52</td>\n",
              "      <td>91</td>\n",
              "      <td>22.750000</td>\n",
              "      <td>0.000000</td>\n",
              "      <td>0.291667</td>\n",
              "      <td>0.000000</td>\n",
              "    </tr>\n",
              "    <tr>\n",
              "      <th>1</th>\n",
              "      <td>Team 2</td>\n",
              "      <td>91</td>\n",
              "      <td>1.058140</td>\n",
              "      <td>0.274725</td>\n",
              "      <td>0.572411</td>\n",
              "      <td>0.290698</td>\n",
              "    </tr>\n",
              "  </tbody>\n",
              "</table>\n",
              "</div>"
            ],
            "text/plain": [
              "       Team  TeamAge  TeamExperience  TeamPerformance  WinResult  Champions\n",
              "0    Team 1       91        1.058140         0.362637   0.596307   0.383721\n",
              "4    Team 5       91        1.058140         0.087912   0.437726   0.093023\n",
              "53  Team 54       91       30.333333         0.000000   0.333333   0.000000\n",
              "51  Team 52       91       22.750000         0.000000   0.291667   0.000000\n",
              "1    Team 2       91        1.058140         0.274725   0.572411   0.290698"
            ]
          },
          "metadata": {
            "tags": []
          },
          "execution_count": 27
        }
      ]
    },
    {
      "cell_type": "code",
      "metadata": {
        "colab": {
          "base_uri": "https://localhost:8080/",
          "height": 219
        },
        "id": "qTuD6jh3tun1",
        "outputId": "e3c63c06-435b-42d1-80d7-5c740fe48011"
      },
      "source": [
        "# If Top Performing old teams above are already in contract with competitors\n",
        "# then below Young Teams Can be approach\n",
        "print('Top Young Teams: TABLE A')\n",
        "df_4.sort_values(by='TeamAge',ascending=True).head(5)"
      ],
      "execution_count": null,
      "outputs": [
        {
          "output_type": "stream",
          "text": [
            "Top Young Teams: TABLE A\n"
          ],
          "name": "stdout"
        },
        {
          "output_type": "execute_result",
          "data": {
            "text/html": [
              "<div>\n",
              "<style scoped>\n",
              "    .dataframe tbody tr th:only-of-type {\n",
              "        vertical-align: middle;\n",
              "    }\n",
              "\n",
              "    .dataframe tbody tr th {\n",
              "        vertical-align: top;\n",
              "    }\n",
              "\n",
              "    .dataframe thead th {\n",
              "        text-align: right;\n",
              "    }\n",
              "</style>\n",
              "<table border=\"1\" class=\"dataframe\">\n",
              "  <thead>\n",
              "    <tr style=\"text-align: right;\">\n",
              "      <th></th>\n",
              "      <th>Team</th>\n",
              "      <th>TeamAge</th>\n",
              "      <th>TeamExperience</th>\n",
              "      <th>TeamPerformance</th>\n",
              "      <th>WinResult</th>\n",
              "      <th>Champions</th>\n",
              "    </tr>\n",
              "  </thead>\n",
              "  <tbody>\n",
              "    <tr>\n",
              "      <th>60</th>\n",
              "      <td>Team 61</td>\n",
              "      <td>3</td>\n",
              "      <td>3.000000</td>\n",
              "      <td>0.0</td>\n",
              "      <td>NaN</td>\n",
              "      <td>0.0</td>\n",
              "    </tr>\n",
              "    <tr>\n",
              "      <th>55</th>\n",
              "      <td>Team 56</td>\n",
              "      <td>4</td>\n",
              "      <td>4.000000</td>\n",
              "      <td>0.0</td>\n",
              "      <td>0.210526</td>\n",
              "      <td>0.0</td>\n",
              "    </tr>\n",
              "    <tr>\n",
              "      <th>43</th>\n",
              "      <td>Team 44</td>\n",
              "      <td>6</td>\n",
              "      <td>2.000000</td>\n",
              "      <td>0.0</td>\n",
              "      <td>0.307018</td>\n",
              "      <td>0.0</td>\n",
              "    </tr>\n",
              "    <tr>\n",
              "      <th>56</th>\n",
              "      <td>Team 57</td>\n",
              "      <td>11</td>\n",
              "      <td>11.000000</td>\n",
              "      <td>0.0</td>\n",
              "      <td>0.210526</td>\n",
              "      <td>0.0</td>\n",
              "    </tr>\n",
              "    <tr>\n",
              "      <th>36</th>\n",
              "      <td>Team 37</td>\n",
              "      <td>13</td>\n",
              "      <td>2.166667</td>\n",
              "      <td>0.0</td>\n",
              "      <td>0.271930</td>\n",
              "      <td>0.0</td>\n",
              "    </tr>\n",
              "  </tbody>\n",
              "</table>\n",
              "</div>"
            ],
            "text/plain": [
              "       Team  TeamAge  TeamExperience  TeamPerformance  WinResult  Champions\n",
              "60  Team 61        3        3.000000              0.0        NaN        0.0\n",
              "55  Team 56        4        4.000000              0.0   0.210526        0.0\n",
              "43  Team 44        6        2.000000              0.0   0.307018        0.0\n",
              "56  Team 57       11       11.000000              0.0   0.210526        0.0\n",
              "36  Team 37       13        2.166667              0.0   0.271930        0.0"
            ]
          },
          "metadata": {
            "tags": []
          },
          "execution_count": 28
        }
      ]
    },
    {
      "cell_type": "code",
      "metadata": {
        "colab": {
          "base_uri": "https://localhost:8080/",
          "height": 219
        },
        "id": "fb0AmZDx0BqX",
        "outputId": "8acc2b75-2564-4ac9-d268-899c463cfc6b"
      },
      "source": [
        "print('Top Young Teams: TABLE B')\n",
        "df_5.sort_values(by='TeamAge',ascending=True).head(5)"
      ],
      "execution_count": null,
      "outputs": [
        {
          "output_type": "stream",
          "text": [
            "Top Young Teams: TABLE B\n"
          ],
          "name": "stdout"
        },
        {
          "output_type": "execute_result",
          "data": {
            "text/html": [
              "<div>\n",
              "<style scoped>\n",
              "    .dataframe tbody tr th:only-of-type {\n",
              "        vertical-align: middle;\n",
              "    }\n",
              "\n",
              "    .dataframe tbody tr th {\n",
              "        vertical-align: top;\n",
              "    }\n",
              "\n",
              "    .dataframe thead th {\n",
              "        text-align: right;\n",
              "    }\n",
              "</style>\n",
              "<table border=\"1\" class=\"dataframe\">\n",
              "  <thead>\n",
              "    <tr style=\"text-align: right;\">\n",
              "      <th></th>\n",
              "      <th>Team</th>\n",
              "      <th>TeamAge</th>\n",
              "      <th>TeamExperience</th>\n",
              "      <th>TeamPerformance</th>\n",
              "      <th>WinResult</th>\n",
              "      <th>Champions</th>\n",
              "    </tr>\n",
              "  </thead>\n",
              "  <tbody>\n",
              "    <tr>\n",
              "      <th>60</th>\n",
              "      <td>Team 61</td>\n",
              "      <td>3</td>\n",
              "      <td>3.000000</td>\n",
              "      <td>0.0</td>\n",
              "      <td>NaN</td>\n",
              "      <td>0.0</td>\n",
              "    </tr>\n",
              "    <tr>\n",
              "      <th>55</th>\n",
              "      <td>Team 56</td>\n",
              "      <td>4</td>\n",
              "      <td>4.000000</td>\n",
              "      <td>0.0</td>\n",
              "      <td>0.210526</td>\n",
              "      <td>0.0</td>\n",
              "    </tr>\n",
              "    <tr>\n",
              "      <th>43</th>\n",
              "      <td>Team 44</td>\n",
              "      <td>6</td>\n",
              "      <td>2.000000</td>\n",
              "      <td>0.0</td>\n",
              "      <td>0.307018</td>\n",
              "      <td>0.0</td>\n",
              "    </tr>\n",
              "    <tr>\n",
              "      <th>56</th>\n",
              "      <td>Team 57</td>\n",
              "      <td>11</td>\n",
              "      <td>11.000000</td>\n",
              "      <td>0.0</td>\n",
              "      <td>0.210526</td>\n",
              "      <td>0.0</td>\n",
              "    </tr>\n",
              "    <tr>\n",
              "      <th>36</th>\n",
              "      <td>Team 37</td>\n",
              "      <td>13</td>\n",
              "      <td>2.166667</td>\n",
              "      <td>0.0</td>\n",
              "      <td>0.271930</td>\n",
              "      <td>0.0</td>\n",
              "    </tr>\n",
              "  </tbody>\n",
              "</table>\n",
              "</div>"
            ],
            "text/plain": [
              "       Team  TeamAge  TeamExperience  TeamPerformance  WinResult  Champions\n",
              "60  Team 61        3        3.000000              0.0        NaN        0.0\n",
              "55  Team 56        4        4.000000              0.0   0.210526        0.0\n",
              "43  Team 44        6        2.000000              0.0   0.307018        0.0\n",
              "56  Team 57       11       11.000000              0.0   0.210526        0.0\n",
              "36  Team 37       13        2.166667              0.0   0.271930        0.0"
            ]
          },
          "metadata": {
            "tags": []
          },
          "execution_count": 29
        }
      ]
    },
    {
      "cell_type": "markdown",
      "source": [
        "3. Following are improvements or suggestions to the association management on quality, quantity, variety, velocity, veracity etc. on the data points collected by the association to perform a better data analysis in future.\n",
        "\n",
        "*  Teams which are already in contract with competitors\n",
        "*  The year for which the decision is to be made\n",
        "*   Top players of the team\n",
        "\n",
        "\n"
      ],
      "metadata": {
        "id": "3RnQhY_pXjMt"
      }
    }
  ]
}